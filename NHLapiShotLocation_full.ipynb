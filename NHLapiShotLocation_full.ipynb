{
 "cells": [
  {
   "cell_type": "markdown",
   "metadata": {},
   "source": [
    "# NHL API Shot Location Data"
   ]
  },
  {
   "cell_type": "markdown",
   "metadata": {},
   "source": [
    "Tyler Young May 2019"
   ]
  },
  {
   "cell_type": "markdown",
   "metadata": {},
   "source": [
    "Continuation of working with shot location data, but now looking at entire NHL 2018-2019 season, not just Sharks games."
   ]
  },
  {
   "cell_type": "markdown",
   "metadata": {},
   "source": [
    "---"
   ]
  },
  {
   "cell_type": "markdown",
   "metadata": {},
   "source": [
    "## Collect Game IDs from the 2018-2019 Regular Season"
   ]
  },
  {
   "cell_type": "code",
   "execution_count": 1,
   "metadata": {},
   "outputs": [],
   "source": [
    "import requests\n",
    "import json\n",
    "import pandas as pd\n",
    "pd.options.display.max_rows = 9999"
   ]
  },
  {
   "cell_type": "code",
   "execution_count": 2,
   "metadata": {},
   "outputs": [],
   "source": [
    "response_teams = requests.get(\"https://statsapi.web.nhl.com/api/v1/teams\")\n",
    "teams = response_teams.json()"
   ]
  },
  {
   "cell_type": "markdown",
   "metadata": {},
   "source": [
    "This year the season went from Oct 3rd, 2018 to Apr 6th, 2019."
   ]
  },
  {
   "cell_type": "code",
   "execution_count": 3,
   "metadata": {},
   "outputs": [],
   "source": [
    "response = requests.get(\"https://statsapi.web.nhl.com/api/v1/schedule?startDate=2018-10-03&endDate=2019-04-06\")\n",
    "games = response.json()"
   ]
  },
  {
   "cell_type": "code",
   "execution_count": 4,
   "metadata": {},
   "outputs": [],
   "source": [
    "def days_games(day):\n",
    "    days_games = []\n",
    "    for i in range(0, len(day)):\n",
    "        days_games.append(day[i]['gamePk'])\n",
    "    return days_games"
   ]
  },
  {
   "cell_type": "code",
   "execution_count": 5,
   "metadata": {},
   "outputs": [],
   "source": [
    "def season_games(games):\n",
    "    list_of_seasons_game_ids = []\n",
    "    for i in range(0, len(games)):\n",
    "        list_of_seasons_game_ids = list_of_seasons_game_ids + days_games(games[i]['games'])\n",
    "    return list_of_seasons_game_ids"
   ]
  },
  {
   "cell_type": "code",
   "execution_count": 6,
   "metadata": {},
   "outputs": [],
   "source": [
    "list_of_game_ids = season_games(games['dates'])"
   ]
  },
  {
   "cell_type": "code",
   "execution_count": 7,
   "metadata": {},
   "outputs": [],
   "source": [
    "df_game_ids = pd.DataFrame(list_of_game_ids, columns = ['game_ids'])"
   ]
  },
  {
   "cell_type": "markdown",
   "metadata": {},
   "source": [
    "Game IDs from All-Start event and a preseason game. Let's drop these.\n",
    "\n",
    "2018010110\n",
    "\n",
    "2018040641\n",
    "\n",
    "2018040642\n",
    "\n",
    "2018040643"
   ]
  },
  {
   "cell_type": "code",
   "execution_count": 8,
   "metadata": {},
   "outputs": [],
   "source": [
    "df_game_ids = df_game_ids[(df_game_ids.game_ids != 2018040641) & (df_game_ids.game_ids != 2018040642) \n",
    "                          & (df_game_ids.game_ids != 2018040643) & (df_game_ids.game_ids != 2018010110)]"
   ]
  },
  {
   "cell_type": "markdown",
   "metadata": {},
   "source": [
    "---"
   ]
  },
  {
   "cell_type": "markdown",
   "metadata": {},
   "source": [
    "## Scale up to get data from all games in the season"
   ]
  },
  {
   "cell_type": "markdown",
   "metadata": {},
   "source": [
    "First I pull the list of game IDs from before."
   ]
  },
  {
   "cell_type": "code",
   "execution_count": 9,
   "metadata": {},
   "outputs": [
    {
     "data": {
      "text/plain": [
       "1    2018020001\n",
       "2    2018020002\n",
       "3    2018020003\n",
       "4    2018020004\n",
       "5    2018020005\n",
       "Name: game_ids, dtype: int64"
      ]
     },
     "execution_count": 9,
     "metadata": {},
     "output_type": "execute_result"
    }
   ],
   "source": [
    "list_of_gameIDs = df_game_ids['game_ids']\n",
    "list_of_gameIDs[0:5]"
   ]
  },
  {
   "cell_type": "markdown",
   "metadata": {},
   "source": [
    "Function to loop through all games from the list created before and make a data frame of all the plays from the season."
   ]
  },
  {
   "cell_type": "code",
   "execution_count": 10,
   "metadata": {},
   "outputs": [],
   "source": [
    "def game_data(list_of_gameIDs):\n",
    "    df_all_plays = pd.DataFrame()\n",
    "    for ID in list_of_gameIDs:\n",
    "        r = requests.get(\"https://statsapi.web.nhl.com/api/v1/game/\"+str(ID)+\"/feed/live\")\n",
    "        s_game = r.json()\n",
    "        df_s_game = pd.DataFrame(s_game['liveData']['plays']['allPlays'])\n",
    "        df_all_plays = df_all_plays.append(df_s_game)\n",
    "    return df_all_plays.reset_index(drop = True)"
   ]
  },
  {
   "cell_type": "markdown",
   "metadata": {},
   "source": [
    "Collect all live game data from the entire 2018-2019 regular season. 1,271 games total."
   ]
  },
  {
   "cell_type": "code",
   "execution_count": 132,
   "metadata": {},
   "outputs": [],
   "source": [
    "df_play = game_data(list_of_gameIDs)"
   ]
  },
  {
   "cell_type": "code",
   "execution_count": 203,
   "metadata": {},
   "outputs": [],
   "source": [
    "#Creating variable to remove events that do not have coordinates. \n",
    "#These 'events' without coordinates are things like start and end of a period. For this analysis we do not need those data points.\n",
    "df_play['has_coordinates'] = df_play['coordinates'].apply(lambda x: 1 if all (k in x for k in (\"x\",\"y\")) else 0)\n",
    "df_play = df_play[df_play['has_coordinates']==1].reset_index(drop = True)\n"
   ]
  },
  {
   "cell_type": "markdown",
   "metadata": {},
   "source": [
    "Create variables we want to analyze by extracting data from the dictionaries within our columns."
   ]
  },
  {
   "cell_type": "code",
   "execution_count": 206,
   "metadata": {},
   "outputs": [],
   "source": [
    "df_play['date'] = df_play['about'].apply(lambda x: x['dateTime'].split('T')[0])\n",
    "df_play['event'] = df_play['result'].apply(lambda x: x['event'])\n",
    "df_play['eventTypeId'] = df_play['result'].apply(lambda x: x['eventTypeId'])\n",
    "df_play['description'] = df_play['result'].apply(lambda x: x['description'])\n",
    "df_play['period'] = df_play['about'].apply(lambda x: x['period'])\n",
    "df_play['periodType'] = df_play['about'].apply(lambda x: x['periodType'])\n",
    "df_play['periodTimeRemaining'] = df_play['about'].apply(lambda x: x['periodTimeRemaining'])\n",
    "df_play['xcoord'] = df_play['coordinates'].apply(lambda x: x['x'])\n",
    "df_play['ycoord'] = df_play['coordinates'].apply(lambda x: x['y'])\n",
    "df_play['player1_team'] = df_play['team'].apply(lambda x: x['name'])\n",
    "df_play['player1_name'] = df_play['players'].apply(lambda x: x[0]['player']['fullName'])\n",
    "df_play['player1_type'] = df_play['players'].apply(lambda x: x[0]['playerType'])\n",
    "df_play['player2_name'] = df_play['players'].apply(lambda x: x[1]['player']['fullName'] if len(x)>1 else None)\n",
    "df_play['player2_type'] = df_play['players'].apply(lambda x: x[1]['playerType'] if len(x)>1 else None)\n",
    "df_play['player3_name'] = df_play['players'].apply(lambda x: x[2]['player']['fullName'] if len(x)>2 else None)\n",
    "df_play['player3_type'] = df_play['players'].apply(lambda x: x[2]['playerType'] if len(x)>2 else None)\n",
    "df_play['player4_name'] = df_play['players'].apply(lambda x: x[3]['player']['fullName'] if len(x)>3 else None)\n",
    "df_play['player4_type'] = df_play['players'].apply(lambda x: x[3]['playerType'] if len(x)>3 else None)"
   ]
  },
  {
   "cell_type": "markdown",
   "metadata": {},
   "source": [
    "Create clean version of dataframe by dropping columns no longer needed."
   ]
  },
  {
   "cell_type": "code",
   "execution_count": 208,
   "metadata": {},
   "outputs": [
    {
     "data": {
      "text/html": [
       "<div>\n",
       "<style scoped>\n",
       "    .dataframe tbody tr th:only-of-type {\n",
       "        vertical-align: middle;\n",
       "    }\n",
       "\n",
       "    .dataframe tbody tr th {\n",
       "        vertical-align: top;\n",
       "    }\n",
       "\n",
       "    .dataframe thead th {\n",
       "        text-align: right;\n",
       "    }\n",
       "</style>\n",
       "<table border=\"1\" class=\"dataframe\">\n",
       "  <thead>\n",
       "    <tr style=\"text-align: right;\">\n",
       "      <th></th>\n",
       "      <th>coordinates</th>\n",
       "      <th>date</th>\n",
       "      <th>event</th>\n",
       "      <th>eventTypeId</th>\n",
       "      <th>description</th>\n",
       "      <th>period</th>\n",
       "      <th>periodType</th>\n",
       "      <th>periodTimeRemaining</th>\n",
       "      <th>player1_team</th>\n",
       "      <th>player1_name</th>\n",
       "      <th>player1_type</th>\n",
       "      <th>player2_name</th>\n",
       "      <th>player2_type</th>\n",
       "      <th>player3_name</th>\n",
       "      <th>player3_type</th>\n",
       "      <th>player4_name</th>\n",
       "      <th>player4_type</th>\n",
       "      <th>has_coord</th>\n",
       "      <th>xcoord</th>\n",
       "      <th>ycoord</th>\n",
       "    </tr>\n",
       "  </thead>\n",
       "  <tbody>\n",
       "    <tr>\n",
       "      <th>0</th>\n",
       "      <td>{'x': 0.0, 'y': 0.0}</td>\n",
       "      <td>2018-10-03</td>\n",
       "      <td>Faceoff</td>\n",
       "      <td>FACEOFF</td>\n",
       "      <td>Max Domi faceoff won against Auston Matthews</td>\n",
       "      <td>1</td>\n",
       "      <td>REGULAR</td>\n",
       "      <td>20:00</td>\n",
       "      <td>Montréal Canadiens</td>\n",
       "      <td>Max Domi</td>\n",
       "      <td>Winner</td>\n",
       "      <td>Auston Matthews</td>\n",
       "      <td>Loser</td>\n",
       "      <td>None</td>\n",
       "      <td>None</td>\n",
       "      <td>None</td>\n",
       "      <td>None</td>\n",
       "      <td>1</td>\n",
       "      <td>0.0</td>\n",
       "      <td>0.0</td>\n",
       "    </tr>\n",
       "    <tr>\n",
       "      <th>1</th>\n",
       "      <td>{'x': 78.0, 'y': -19.0}</td>\n",
       "      <td>2018-10-03</td>\n",
       "      <td>Shot</td>\n",
       "      <td>SHOT</td>\n",
       "      <td>Artturi Lehkonen Backhand saved by Frederik An...</td>\n",
       "      <td>1</td>\n",
       "      <td>REGULAR</td>\n",
       "      <td>19:31</td>\n",
       "      <td>Montréal Canadiens</td>\n",
       "      <td>Artturi Lehkonen</td>\n",
       "      <td>Shooter</td>\n",
       "      <td>Frederik Andersen</td>\n",
       "      <td>Goalie</td>\n",
       "      <td>None</td>\n",
       "      <td>None</td>\n",
       "      <td>None</td>\n",
       "      <td>None</td>\n",
       "      <td>1</td>\n",
       "      <td>78.0</td>\n",
       "      <td>-19.0</td>\n",
       "    </tr>\n",
       "    <tr>\n",
       "      <th>2</th>\n",
       "      <td>{'x': -37.0, 'y': -10.0}</td>\n",
       "      <td>2018-10-03</td>\n",
       "      <td>Shot</td>\n",
       "      <td>SHOT</td>\n",
       "      <td>Morgan Rielly Snap Shot saved by Carey Price</td>\n",
       "      <td>1</td>\n",
       "      <td>REGULAR</td>\n",
       "      <td>19:11</td>\n",
       "      <td>Toronto Maple Leafs</td>\n",
       "      <td>Morgan Rielly</td>\n",
       "      <td>Shooter</td>\n",
       "      <td>Carey Price</td>\n",
       "      <td>Goalie</td>\n",
       "      <td>None</td>\n",
       "      <td>None</td>\n",
       "      <td>None</td>\n",
       "      <td>None</td>\n",
       "      <td>1</td>\n",
       "      <td>-37.0</td>\n",
       "      <td>-10.0</td>\n",
       "    </tr>\n",
       "  </tbody>\n",
       "</table>\n",
       "</div>"
      ],
      "text/plain": [
       "                coordinates        date    event eventTypeId  \\\n",
       "0      {'x': 0.0, 'y': 0.0}  2018-10-03  Faceoff     FACEOFF   \n",
       "1   {'x': 78.0, 'y': -19.0}  2018-10-03     Shot        SHOT   \n",
       "2  {'x': -37.0, 'y': -10.0}  2018-10-03     Shot        SHOT   \n",
       "\n",
       "                                         description  period periodType  \\\n",
       "0       Max Domi faceoff won against Auston Matthews       1    REGULAR   \n",
       "1  Artturi Lehkonen Backhand saved by Frederik An...       1    REGULAR   \n",
       "2       Morgan Rielly Snap Shot saved by Carey Price       1    REGULAR   \n",
       "\n",
       "  periodTimeRemaining         player1_team      player1_name player1_type  \\\n",
       "0               20:00   Montréal Canadiens          Max Domi       Winner   \n",
       "1               19:31   Montréal Canadiens  Artturi Lehkonen      Shooter   \n",
       "2               19:11  Toronto Maple Leafs     Morgan Rielly      Shooter   \n",
       "\n",
       "        player2_name player2_type player3_name player3_type player4_name  \\\n",
       "0    Auston Matthews        Loser         None         None         None   \n",
       "1  Frederik Andersen       Goalie         None         None         None   \n",
       "2        Carey Price       Goalie         None         None         None   \n",
       "\n",
       "  player4_type  has_coord  xcoord  ycoord  \n",
       "0         None          1     0.0     0.0  \n",
       "1         None          1    78.0   -19.0  \n",
       "2         None          1   -37.0   -10.0  "
      ]
     },
     "execution_count": 208,
     "metadata": {},
     "output_type": "execute_result"
    }
   ],
   "source": [
    "df_all_plays_reg_season = df_play.copy()\n",
    "df_all_plays_reg_season.drop(['about','players','result','team','has_coordinates'], inplace = True, axis = 1)\n",
    "df_all_plays_reg_season.head(3)"
   ]
  },
  {
   "cell_type": "code",
   "execution_count": 209,
   "metadata": {},
   "outputs": [
    {
     "data": {
      "text/plain": [
       "333288"
      ]
     },
     "execution_count": 209,
     "metadata": {},
     "output_type": "execute_result"
    }
   ],
   "source": [
    "len(df_all_plays_reg_season)\n",
    "#there are over 300,000 plays we collected from the season to analyze."
   ]
  },
  {
   "cell_type": "code",
   "execution_count": 210,
   "metadata": {},
   "outputs": [
    {
     "data": {
      "text/plain": [
       "16"
      ]
     },
     "execution_count": 210,
     "metadata": {},
     "output_type": "execute_result"
    }
   ],
   "source": [
    "#number of plays where Joe Thornton scored a goal.\n",
    "len(df_all_plays_reg_season[(df_all_plays_reg_season['player1_name']=='Joe Thornton')&\n",
    "                           (df_all_plays_reg_season['player1_type']=='Scorer')])"
   ]
  },
  {
   "cell_type": "markdown",
   "metadata": {},
   "source": [
    "Just to check, I see how many plays occurred during the season where Joe Thornton was the goal scorer and found 16. According to the stats from the Sharks website, this checks out!"
   ]
  },
  {
   "cell_type": "code",
   "execution_count": 212,
   "metadata": {},
   "outputs": [],
   "source": [
    "df_all_plays_reg_season.to_csv('2018-2019_reg_season_plays_all_nhl.csv')"
   ]
  },
  {
   "cell_type": "markdown",
   "metadata": {},
   "source": [
    "---"
   ]
  }
 ],
 "metadata": {
  "kernelspec": {
   "display_name": "Python 3",
   "language": "python",
   "name": "python3"
  },
  "language_info": {
   "codemirror_mode": {
    "name": "ipython",
    "version": 3
   },
   "file_extension": ".py",
   "mimetype": "text/x-python",
   "name": "python",
   "nbconvert_exporter": "python",
   "pygments_lexer": "ipython3",
   "version": "3.6.5"
  }
 },
 "nbformat": 4,
 "nbformat_minor": 2
}
