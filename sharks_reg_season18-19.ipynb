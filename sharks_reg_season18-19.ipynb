{
 "cells": [
  {
   "cell_type": "markdown",
   "metadata": {},
   "source": [
    "# NHL API Shot Location Data"
   ]
  },
  {
   "cell_type": "markdown",
   "metadata": {},
   "source": [
    "Tyler Young \n",
    "\n",
    "May 2019"
   ]
  },
  {
   "cell_type": "markdown",
   "metadata": {},
   "source": [
    "As a side project to mourn the ending of the Sharks season, I wanted to collect data from the NHL to analyze. To start I had a vision of creating a heatmap of where players on the Sharks took their shots and the outcome. From my seaching online, I could not find this data readily available. So I did some digging into the NHL api and found this helpful documentation: https://gitlab.com/dword4/nhlapi.\n",
    "\n",
    "I learned I needed a couple IDs to pull the correct data. First was the ID for the San Jose Sharks, which is 28. Then I needed the specific IDs for each game they played which I found by specifying the teamId=28 and setting my start and end dates to match those for the regular season of 2018-2019.\n",
    "\n",
    "API to get game ID's for sharks reg season\n",
    "\n",
    "https://statsapi.web.nhl.com/api/v1/schedule?teamId=28&startDate=2018-10-02&endDate=2019-04-07\n",
    "\n",
    "From the api above, I could extract the game IDs for all the regular season games the Sharks played in. Then those IDs could be plugged in to the next api to collect all the data used to create the play by play feed from the hockey game. \n",
    "\n",
    "Here is an example of a game played on October 31st, 2018. Rangers vs Sharks.\n",
    "\n",
    "https://statsapi.web.nhl.com/api/v1/game/2018020177/feed/live\n",
    "\n",
    "I used this example game to test extracting the data I wanted to use for my analysis. My plan after that was to repeat this process for each game ID and append the data in one pandas data frame. Below you can see the test section where I created the variables, and then in the final 'Scale up' section is where I looped through the list of game IDs to collect all the plays of the entire season.\n",
    "\n",
    "Use of the final dataset to come in a separate file, probably visualized with Tableau. Hopefully this structure helps anyone else trying to get similar data from the NHL api. Enjoy!"
   ]
  },
  {
   "cell_type": "markdown",
   "metadata": {},
   "source": [
    "---"
   ]
  },
  {
   "cell_type": "markdown",
   "metadata": {},
   "source": [
    "## Collect Game IDs from the Sharks 2018-2019 Regular Season"
   ]
  },
  {
   "cell_type": "markdown",
   "metadata": {},
   "source": [
    "SHARKS ID: 28\n",
    "\n",
    "https://statsapi.web.nhl.com/api/v1/teams/28"
   ]
  },
  {
   "cell_type": "code",
   "execution_count": 1,
   "metadata": {},
   "outputs": [],
   "source": [
    "import requests\n",
    "import json\n",
    "import pandas as pd\n",
    "pd.options.display.max_rows = 99"
   ]
  },
  {
   "cell_type": "code",
   "execution_count": 2,
   "metadata": {},
   "outputs": [],
   "source": [
    "response = requests.get(\"https://statsapi.web.nhl.com/api/v1/schedule?teamId=28&startDate=2018-10-02&endDate=2019-04-07\")\n",
    "sharks_games = response.json()"
   ]
  },
  {
   "cell_type": "code",
   "execution_count": 3,
   "metadata": {},
   "outputs": [],
   "source": [
    "game_ids = []\n",
    "for i in range(0,len(sharks_games['dates'])):\n",
    "    game_ids.append(sharks_games['dates'][i]['games'][0])"
   ]
  },
  {
   "cell_type": "code",
   "execution_count": 4,
   "metadata": {},
   "outputs": [
    {
     "data": {
      "text/html": [
       "<div>\n",
       "<style scoped>\n",
       "    .dataframe tbody tr th:only-of-type {\n",
       "        vertical-align: middle;\n",
       "    }\n",
       "\n",
       "    .dataframe tbody tr th {\n",
       "        vertical-align: top;\n",
       "    }\n",
       "\n",
       "    .dataframe thead th {\n",
       "        text-align: right;\n",
       "    }\n",
       "</style>\n",
       "<table border=\"1\" class=\"dataframe\">\n",
       "  <thead>\n",
       "    <tr style=\"text-align: right;\">\n",
       "      <th></th>\n",
       "      <th>gameDate</th>\n",
       "      <th>gamePk</th>\n",
       "      <th>gameType</th>\n",
       "      <th>link</th>\n",
       "    </tr>\n",
       "  </thead>\n",
       "  <tbody>\n",
       "    <tr>\n",
       "      <th>0</th>\n",
       "      <td>2018-10-04T02:30:00Z</td>\n",
       "      <td>2018020004</td>\n",
       "      <td>R</td>\n",
       "      <td>/api/v1/game/2018020004/feed/live</td>\n",
       "    </tr>\n",
       "    <tr>\n",
       "      <th>1</th>\n",
       "      <td>2018-10-06T02:30:00Z</td>\n",
       "      <td>2018020016</td>\n",
       "      <td>R</td>\n",
       "      <td>/api/v1/game/2018020016/feed/live</td>\n",
       "    </tr>\n",
       "    <tr>\n",
       "      <th>2</th>\n",
       "      <td>2018-10-08T17:00:00Z</td>\n",
       "      <td>2018020033</td>\n",
       "      <td>R</td>\n",
       "      <td>/api/v1/game/2018020033/feed/live</td>\n",
       "    </tr>\n",
       "    <tr>\n",
       "      <th>3</th>\n",
       "      <td>2018-10-09T23:00:00Z</td>\n",
       "      <td>2018020036</td>\n",
       "      <td>R</td>\n",
       "      <td>/api/v1/game/2018020036/feed/live</td>\n",
       "    </tr>\n",
       "    <tr>\n",
       "      <th>4</th>\n",
       "      <td>2018-10-11T23:00:00Z</td>\n",
       "      <td>2018020049</td>\n",
       "      <td>R</td>\n",
       "      <td>/api/v1/game/2018020049/feed/live</td>\n",
       "    </tr>\n",
       "  </tbody>\n",
       "</table>\n",
       "</div>"
      ],
      "text/plain": [
       "               gameDate      gamePk gameType  \\\n",
       "0  2018-10-04T02:30:00Z  2018020004        R   \n",
       "1  2018-10-06T02:30:00Z  2018020016        R   \n",
       "2  2018-10-08T17:00:00Z  2018020033        R   \n",
       "3  2018-10-09T23:00:00Z  2018020036        R   \n",
       "4  2018-10-11T23:00:00Z  2018020049        R   \n",
       "\n",
       "                                link  \n",
       "0  /api/v1/game/2018020004/feed/live  \n",
       "1  /api/v1/game/2018020016/feed/live  \n",
       "2  /api/v1/game/2018020033/feed/live  \n",
       "3  /api/v1/game/2018020036/feed/live  \n",
       "4  /api/v1/game/2018020049/feed/live  "
      ]
     },
     "execution_count": 4,
     "metadata": {},
     "output_type": "execute_result"
    }
   ],
   "source": [
    "df_games = pd.DataFrame(game_ids)[['gameDate','gamePk','gameType','link']].sort_values('gameDate')\n",
    "df_games.head()"
   ]
  },
  {
   "cell_type": "markdown",
   "metadata": {},
   "source": [
    "---"
   ]
  },
  {
   "cell_type": "markdown",
   "metadata": {},
   "source": [
    "## Test code to get data from one game."
   ]
  },
  {
   "cell_type": "markdown",
   "metadata": {},
   "source": [
    "Extracting play-by-play data from this one game. https://statsapi.web.nhl.com/api/v1/game/2018020177/feed/live"
   ]
  },
  {
   "cell_type": "markdown",
   "metadata": {},
   "source": [
    "Explore the json to find structure of data I want"
   ]
  },
  {
   "cell_type": "code",
   "execution_count": 5,
   "metadata": {},
   "outputs": [],
   "source": [
    "#%timeit requests.get(\"https://statsapi.web.nhl.com/api/v1/game/2018020177/feed/live\")\n",
    "resp = requests.get(\"https://statsapi.web.nhl.com/api/v1/game/2018020177/feed/live\")\n",
    "single_game = resp.json()"
   ]
  },
  {
   "cell_type": "code",
   "execution_count": 6,
   "metadata": {},
   "outputs": [
    {
     "data": {
      "text/plain": [
       "dict_keys(['copyright', 'gamePk', 'link', 'metaData', 'gameData', 'liveData'])"
      ]
     },
     "execution_count": 6,
     "metadata": {},
     "output_type": "execute_result"
    }
   ],
   "source": [
    "single_game.keys()"
   ]
  },
  {
   "cell_type": "code",
   "execution_count": 7,
   "metadata": {},
   "outputs": [
    {
     "data": {
      "text/plain": [
       "dict_keys(['plays', 'linescore', 'boxscore', 'decisions'])"
      ]
     },
     "execution_count": 7,
     "metadata": {},
     "output_type": "execute_result"
    }
   ],
   "source": [
    "#pull keys from the 'liveData' key\n",
    "single_game['liveData'].keys()"
   ]
  },
  {
   "cell_type": "code",
   "execution_count": 8,
   "metadata": {},
   "outputs": [
    {
     "data": {
      "text/plain": [
       "dict_keys(['allPlays', 'scoringPlays', 'penaltyPlays', 'playsByPeriod', 'currentPlay'])"
      ]
     },
     "execution_count": 8,
     "metadata": {},
     "output_type": "execute_result"
    }
   ],
   "source": [
    "#pull keys from the 'plays' key\n",
    "single_game['liveData']['plays'].keys()"
   ]
  },
  {
   "cell_type": "code",
   "execution_count": 26,
   "metadata": {},
   "outputs": [
    {
     "data": {
      "text/plain": [
       "{'players': [{'player': {'id': 8474053,\n",
       "    'fullName': 'Logan Couture',\n",
       "    'link': '/api/v1/people/8474053'},\n",
       "   'playerType': 'Shooter'},\n",
       "  {'player': {'id': 8468685,\n",
       "    'fullName': 'Henrik Lundqvist',\n",
       "    'link': '/api/v1/people/8468685'},\n",
       "   'playerType': 'Goalie'}],\n",
       " 'result': {'event': 'Shot',\n",
       "  'eventCode': 'SJS8',\n",
       "  'eventTypeId': 'SHOT',\n",
       "  'description': 'Logan Couture Wrist Shot saved by Henrik Lundqvist',\n",
       "  'secondaryType': 'Wrist Shot'},\n",
       " 'about': {'eventIdx': 5,\n",
       "  'eventId': 8,\n",
       "  'period': 1,\n",
       "  'periodType': 'REGULAR',\n",
       "  'ordinalNum': '1st',\n",
       "  'periodTime': '00:18',\n",
       "  'periodTimeRemaining': '19:42',\n",
       "  'dateTime': '2018-10-31T02:38:35Z',\n",
       "  'goals': {'away': 0, 'home': 0}},\n",
       " 'coordinates': {'x': 63.0, 'y': 19.0},\n",
       " 'team': {'id': 28,\n",
       "  'name': 'San Jose Sharks',\n",
       "  'link': '/api/v1/teams/28',\n",
       "  'triCode': 'SJS'}}"
      ]
     },
     "execution_count": 26,
     "metadata": {},
     "output_type": "execute_result"
    }
   ],
   "source": [
    "#example of data stored within a single play\n",
    "single_game['liveData']['plays']['allPlays'][5]"
   ]
  },
  {
   "cell_type": "markdown",
   "metadata": {},
   "source": [
    "#### Create a pandas dataframe using all plays from a single game"
   ]
  },
  {
   "cell_type": "code",
   "execution_count": 35,
   "metadata": {},
   "outputs": [
    {
     "data": {
      "text/html": [
       "<div>\n",
       "<style scoped>\n",
       "    .dataframe tbody tr th:only-of-type {\n",
       "        vertical-align: middle;\n",
       "    }\n",
       "\n",
       "    .dataframe tbody tr th {\n",
       "        vertical-align: top;\n",
       "    }\n",
       "\n",
       "    .dataframe thead th {\n",
       "        text-align: right;\n",
       "    }\n",
       "</style>\n",
       "<table border=\"1\" class=\"dataframe\">\n",
       "  <thead>\n",
       "    <tr style=\"text-align: right;\">\n",
       "      <th></th>\n",
       "      <th>about</th>\n",
       "      <th>coordinates</th>\n",
       "      <th>players</th>\n",
       "      <th>result</th>\n",
       "      <th>team</th>\n",
       "    </tr>\n",
       "  </thead>\n",
       "  <tbody>\n",
       "    <tr>\n",
       "      <th>5</th>\n",
       "      <td>{'eventIdx': 5, 'eventId': 8, 'period': 1, 'pe...</td>\n",
       "      <td>{'x': 63.0, 'y': 19.0}</td>\n",
       "      <td>[{'player': {'id': 8474053, 'fullName': 'Logan...</td>\n",
       "      <td>{'event': 'Shot', 'eventCode': 'SJS8', 'eventT...</td>\n",
       "      <td>{'id': 28, 'name': 'San Jose Sharks', 'link': ...</td>\n",
       "    </tr>\n",
       "  </tbody>\n",
       "</table>\n",
       "</div>"
      ],
      "text/plain": [
       "                                               about             coordinates  \\\n",
       "5  {'eventIdx': 5, 'eventId': 8, 'period': 1, 'pe...  {'x': 63.0, 'y': 19.0}   \n",
       "\n",
       "                                             players  \\\n",
       "5  [{'player': {'id': 8474053, 'fullName': 'Logan...   \n",
       "\n",
       "                                              result  \\\n",
       "5  {'event': 'Shot', 'eventCode': 'SJS8', 'eventT...   \n",
       "\n",
       "                                                team  \n",
       "5  {'id': 28, 'name': 'San Jose Sharks', 'link': ...  "
      ]
     },
     "execution_count": 35,
     "metadata": {},
     "output_type": "execute_result"
    }
   ],
   "source": [
    "df_plays = pd.DataFrame(single_game['liveData']['plays']['allPlays'])\n",
    "#Here is the same example play now in our pandas dataframe\n",
    "df_plays[5:6]"
   ]
  },
  {
   "cell_type": "code",
   "execution_count": 36,
   "metadata": {},
   "outputs": [],
   "source": [
    "#Creating variable to remove events that do not have coordinates. \n",
    "#These 'events' without coordinates are things like start and end of a period. For this analysis we do not need those data points.\n",
    "df_plays['has_coordinates'] = df_plays['coordinates'].apply(lambda x: bool(x)*1)\n",
    "df_plays = df_plays[df_plays['has_coordinates']==1].reset_index(drop = True)"
   ]
  },
  {
   "cell_type": "markdown",
   "metadata": {},
   "source": [
    "Create variables we want to analyze by extracting data from the dictionaries within our columns."
   ]
  },
  {
   "cell_type": "code",
   "execution_count": 37,
   "metadata": {},
   "outputs": [],
   "source": [
    "df_plays['date'] = df_plays['about'].apply(lambda x: x['dateTime'].split('T')[0])\n",
    "df_plays['event'] = df_plays['result'].apply(lambda x: x['event'])\n",
    "df_plays['eventTypeId'] = df_plays['result'].apply(lambda x: x['eventTypeId'])\n",
    "df_plays['description'] = df_plays['result'].apply(lambda x: x['description'])\n",
    "df_plays['period'] = df_plays['about'].apply(lambda x: x['period'])\n",
    "df_plays['periodType'] = df_plays['about'].apply(lambda x: x['periodType'])\n",
    "df_plays['periodTimeRemaining'] = df_plays['about'].apply(lambda x: x['periodTimeRemaining'])\n",
    "df_plays['xcoord'] = df_plays['coordinates'].apply(lambda x: x['x'])\n",
    "df_plays['ycoord'] = df_plays['coordinates'].apply(lambda x: x['y'])\n",
    "df_plays['player1_team'] = df_plays['team'].apply(lambda x: x['name'])\n",
    "df_plays['player1_name'] = df_plays['players'].apply(lambda x: x[0]['player']['fullName'])\n",
    "df_plays['player1_type'] = df_plays['players'].apply(lambda x: x[0]['playerType'])\n",
    "df_plays['player2_name'] = df_plays['players'].apply(lambda x: x[1]['player']['fullName'] if len(x)>1 else None)\n",
    "df_plays['player2_type'] = df_plays['players'].apply(lambda x: x[1]['playerType'] if len(x)>1 else None)"
   ]
  },
  {
   "cell_type": "markdown",
   "metadata": {},
   "source": [
    "Create clean version of dataframe by dropping columns no longer needed."
   ]
  },
  {
   "cell_type": "code",
   "execution_count": 38,
   "metadata": {},
   "outputs": [
    {
     "data": {
      "text/html": [
       "<div>\n",
       "<style scoped>\n",
       "    .dataframe tbody tr th:only-of-type {\n",
       "        vertical-align: middle;\n",
       "    }\n",
       "\n",
       "    .dataframe tbody tr th {\n",
       "        vertical-align: top;\n",
       "    }\n",
       "\n",
       "    .dataframe thead th {\n",
       "        text-align: right;\n",
       "    }\n",
       "</style>\n",
       "<table border=\"1\" class=\"dataframe\">\n",
       "  <thead>\n",
       "    <tr style=\"text-align: right;\">\n",
       "      <th></th>\n",
       "      <th>coordinates</th>\n",
       "      <th>date</th>\n",
       "      <th>event</th>\n",
       "      <th>eventTypeId</th>\n",
       "      <th>description</th>\n",
       "      <th>period</th>\n",
       "      <th>periodType</th>\n",
       "      <th>periodTimeRemaining</th>\n",
       "      <th>xcoord</th>\n",
       "      <th>ycoord</th>\n",
       "      <th>player1_team</th>\n",
       "      <th>player1_name</th>\n",
       "      <th>player1_type</th>\n",
       "      <th>player2_name</th>\n",
       "      <th>player2_type</th>\n",
       "    </tr>\n",
       "  </thead>\n",
       "  <tbody>\n",
       "    <tr>\n",
       "      <th>0</th>\n",
       "      <td>{'x': 0.0, 'y': 0.0}</td>\n",
       "      <td>2018-10-31</td>\n",
       "      <td>Faceoff</td>\n",
       "      <td>FACEOFF</td>\n",
       "      <td>Logan Couture faceoff won against Mika Zibanejad</td>\n",
       "      <td>1</td>\n",
       "      <td>REGULAR</td>\n",
       "      <td>20:00</td>\n",
       "      <td>0.0</td>\n",
       "      <td>0.0</td>\n",
       "      <td>San Jose Sharks</td>\n",
       "      <td>Logan Couture</td>\n",
       "      <td>Winner</td>\n",
       "      <td>Mika Zibanejad</td>\n",
       "      <td>Loser</td>\n",
       "    </tr>\n",
       "    <tr>\n",
       "      <th>1</th>\n",
       "      <td>{'x': 77.0, 'y': 40.0}</td>\n",
       "      <td>2018-10-31</td>\n",
       "      <td>Hit</td>\n",
       "      <td>HIT</td>\n",
       "      <td>Mika Zibanejad hit Logan Couture</td>\n",
       "      <td>1</td>\n",
       "      <td>REGULAR</td>\n",
       "      <td>19:44</td>\n",
       "      <td>77.0</td>\n",
       "      <td>40.0</td>\n",
       "      <td>New York Rangers</td>\n",
       "      <td>Mika Zibanejad</td>\n",
       "      <td>Hitter</td>\n",
       "      <td>Logan Couture</td>\n",
       "      <td>Hittee</td>\n",
       "    </tr>\n",
       "    <tr>\n",
       "      <th>2</th>\n",
       "      <td>{'x': 63.0, 'y': 19.0}</td>\n",
       "      <td>2018-10-31</td>\n",
       "      <td>Shot</td>\n",
       "      <td>SHOT</td>\n",
       "      <td>Logan Couture Wrist Shot saved by Henrik Lundq...</td>\n",
       "      <td>1</td>\n",
       "      <td>REGULAR</td>\n",
       "      <td>19:42</td>\n",
       "      <td>63.0</td>\n",
       "      <td>19.0</td>\n",
       "      <td>San Jose Sharks</td>\n",
       "      <td>Logan Couture</td>\n",
       "      <td>Shooter</td>\n",
       "      <td>Henrik Lundqvist</td>\n",
       "      <td>Goalie</td>\n",
       "    </tr>\n",
       "  </tbody>\n",
       "</table>\n",
       "</div>"
      ],
      "text/plain": [
       "              coordinates        date    event eventTypeId  \\\n",
       "0    {'x': 0.0, 'y': 0.0}  2018-10-31  Faceoff     FACEOFF   \n",
       "1  {'x': 77.0, 'y': 40.0}  2018-10-31      Hit         HIT   \n",
       "2  {'x': 63.0, 'y': 19.0}  2018-10-31     Shot        SHOT   \n",
       "\n",
       "                                         description  period periodType  \\\n",
       "0   Logan Couture faceoff won against Mika Zibanejad       1    REGULAR   \n",
       "1                   Mika Zibanejad hit Logan Couture       1    REGULAR   \n",
       "2  Logan Couture Wrist Shot saved by Henrik Lundq...       1    REGULAR   \n",
       "\n",
       "  periodTimeRemaining  xcoord  ycoord      player1_team    player1_name  \\\n",
       "0               20:00     0.0     0.0   San Jose Sharks   Logan Couture   \n",
       "1               19:44    77.0    40.0  New York Rangers  Mika Zibanejad   \n",
       "2               19:42    63.0    19.0   San Jose Sharks   Logan Couture   \n",
       "\n",
       "  player1_type      player2_name player2_type  \n",
       "0       Winner    Mika Zibanejad        Loser  \n",
       "1       Hitter     Logan Couture       Hittee  \n",
       "2      Shooter  Henrik Lundqvist       Goalie  "
      ]
     },
     "execution_count": 38,
     "metadata": {},
     "output_type": "execute_result"
    }
   ],
   "source": [
    "df_plays_clean = df_plays.copy()\n",
    "df_plays_clean.drop(['about','players','result','team','has_coordinates'], inplace = True, axis = 1)\n",
    "#df_plays_clean['coordinates'] = df_plays_clean['coordinates'].apply(lambda x: str(x['x'])+\",\"+str(x['y']))\n",
    "df_plays_clean.head(3)"
   ]
  },
  {
   "cell_type": "markdown",
   "metadata": {},
   "source": [
    "---"
   ]
  },
  {
   "cell_type": "markdown",
   "metadata": {},
   "source": [
    "## Scale up to get data from Sharks games in a season"
   ]
  },
  {
   "cell_type": "markdown",
   "metadata": {},
   "source": [
    "First I pull the list of game IDs from before."
   ]
  },
  {
   "cell_type": "code",
   "execution_count": 39,
   "metadata": {},
   "outputs": [
    {
     "data": {
      "text/plain": [
       "0    2018020004\n",
       "1    2018020016\n",
       "Name: gamePk, dtype: int64"
      ]
     },
     "execution_count": 39,
     "metadata": {},
     "output_type": "execute_result"
    }
   ],
   "source": [
    "list_of_gameIDs = df_games['gamePk']\n",
    "list_of_gameIDs[0:2]"
   ]
  },
  {
   "cell_type": "markdown",
   "metadata": {},
   "source": [
    "Function to loop through all games from the list created before and make a data frame of all the plays from the season."
   ]
  },
  {
   "cell_type": "code",
   "execution_count": 40,
   "metadata": {},
   "outputs": [],
   "source": [
    "def game_data(list_of_gameIDs):\n",
    "    df_all_plays = pd.DataFrame()\n",
    "    for ID in list_of_gameIDs:\n",
    "        r = requests.get(\"https://statsapi.web.nhl.com/api/v1/game/\"+str(ID)+\"/feed/live\")\n",
    "        s_game = r.json()\n",
    "        df_s_game = pd.DataFrame(s_game['liveData']['plays']['allPlays'])\n",
    "        df_all_plays = df_all_plays.append(df_s_game)\n",
    "    return df_all_plays.reset_index(drop = True)"
   ]
  },
  {
   "cell_type": "code",
   "execution_count": 41,
   "metadata": {},
   "outputs": [],
   "source": [
    "df_play = game_data(list_of_gameIDs)"
   ]
  },
  {
   "cell_type": "code",
   "execution_count": 42,
   "metadata": {},
   "outputs": [],
   "source": [
    "#Creating variable to remove events that do not have coordinates. \n",
    "#These 'events' without coordinates are things like start and end of a period. For this analysis we do not need those data points.\n",
    "df_play['has_coordinates'] = df_play['coordinates'].apply(lambda x: bool(x)*1)\n",
    "df_play = df_play[df_play['has_coordinates']==1].reset_index(drop = True)\n"
   ]
  },
  {
   "cell_type": "markdown",
   "metadata": {},
   "source": [
    "Create variables we want to analyze by extracting data from the dictionaries within our columns."
   ]
  },
  {
   "cell_type": "code",
   "execution_count": 48,
   "metadata": {},
   "outputs": [],
   "source": [
    "df_play['date'] = df_play['about'].apply(lambda x: x['dateTime'].split('T')[0])\n",
    "df_play['event'] = df_play['result'].apply(lambda x: x['event'])\n",
    "df_play['eventTypeId'] = df_play['result'].apply(lambda x: x['eventTypeId'])\n",
    "df_play['description'] = df_play['result'].apply(lambda x: x['description'])\n",
    "df_play['period'] = df_play['about'].apply(lambda x: x['period'])\n",
    "df_play['periodType'] = df_play['about'].apply(lambda x: x['periodType'])\n",
    "df_play['periodTimeRemaining'] = df_play['about'].apply(lambda x: x['periodTimeRemaining'])\n",
    "df_play['xcoord'] = df_play['coordinates'].apply(lambda x: x['x'])\n",
    "df_play['ycoord'] = df_play['coordinates'].apply(lambda x: x['y'])\n",
    "df_play['player1_team'] = df_play['team'].apply(lambda x: x['name'])\n",
    "df_play['player1_name'] = df_play['players'].apply(lambda x: x[0]['player']['fullName'])\n",
    "df_play['player1_type'] = df_play['players'].apply(lambda x: x[0]['playerType'])\n",
    "df_play['player2_name'] = df_play['players'].apply(lambda x: x[1]['player']['fullName'] if len(x)>1 else None)\n",
    "df_play['player2_type'] = df_play['players'].apply(lambda x: x[1]['playerType'] if len(x)>1 else None)\n",
    "df_play['player3_name'] = df_play['players'].apply(lambda x: x[2]['player']['fullName'] if len(x)>2 else None)\n",
    "df_play['player3_type'] = df_play['players'].apply(lambda x: x[2]['playerType'] if len(x)>2 else None)\n",
    "df_play['player4_name'] = df_play['players'].apply(lambda x: x[3]['player']['fullName'] if len(x)>3 else None)\n",
    "df_play['player4_type'] = df_play['players'].apply(lambda x: x[3]['playerType'] if len(x)>3 else None)"
   ]
  },
  {
   "cell_type": "markdown",
   "metadata": {},
   "source": [
    "Create clean version of dataframe by dropping columns no longer needed."
   ]
  },
  {
   "cell_type": "code",
   "execution_count": 49,
   "metadata": {},
   "outputs": [
    {
     "data": {
      "text/html": [
       "<div>\n",
       "<style scoped>\n",
       "    .dataframe tbody tr th:only-of-type {\n",
       "        vertical-align: middle;\n",
       "    }\n",
       "\n",
       "    .dataframe tbody tr th {\n",
       "        vertical-align: top;\n",
       "    }\n",
       "\n",
       "    .dataframe thead th {\n",
       "        text-align: right;\n",
       "    }\n",
       "</style>\n",
       "<table border=\"1\" class=\"dataframe\">\n",
       "  <thead>\n",
       "    <tr style=\"text-align: right;\">\n",
       "      <th></th>\n",
       "      <th>coordinates</th>\n",
       "      <th>date</th>\n",
       "      <th>event</th>\n",
       "      <th>eventTypeId</th>\n",
       "      <th>description</th>\n",
       "      <th>period</th>\n",
       "      <th>periodType</th>\n",
       "      <th>periodTimeRemaining</th>\n",
       "      <th>xcoord</th>\n",
       "      <th>ycoord</th>\n",
       "      <th>player1_team</th>\n",
       "      <th>player1_name</th>\n",
       "      <th>player1_type</th>\n",
       "      <th>player2_name</th>\n",
       "      <th>player2_type</th>\n",
       "      <th>player3_name</th>\n",
       "      <th>player3_type</th>\n",
       "      <th>player4_name</th>\n",
       "      <th>player4_type</th>\n",
       "    </tr>\n",
       "  </thead>\n",
       "  <tbody>\n",
       "    <tr>\n",
       "      <th>0</th>\n",
       "      <td>{'x': 0.0, 'y': 0.0}</td>\n",
       "      <td>2018-10-04</td>\n",
       "      <td>Faceoff</td>\n",
       "      <td>FACEOFF</td>\n",
       "      <td>Joe Thornton faceoff won against Ryan Getzlaf</td>\n",
       "      <td>1</td>\n",
       "      <td>REGULAR</td>\n",
       "      <td>20:00</td>\n",
       "      <td>0.0</td>\n",
       "      <td>0.0</td>\n",
       "      <td>San Jose Sharks</td>\n",
       "      <td>Joe Thornton</td>\n",
       "      <td>Winner</td>\n",
       "      <td>Ryan Getzlaf</td>\n",
       "      <td>Loser</td>\n",
       "      <td>None</td>\n",
       "      <td>None</td>\n",
       "      <td>None</td>\n",
       "      <td>None</td>\n",
       "    </tr>\n",
       "    <tr>\n",
       "      <th>1</th>\n",
       "      <td>{'x': 63.0, 'y': -26.0}</td>\n",
       "      <td>2018-10-04</td>\n",
       "      <td>Takeaway</td>\n",
       "      <td>TAKEAWAY</td>\n",
       "      <td>Takeaway by Erik Karlsson</td>\n",
       "      <td>1</td>\n",
       "      <td>REGULAR</td>\n",
       "      <td>19:27</td>\n",
       "      <td>63.0</td>\n",
       "      <td>-26.0</td>\n",
       "      <td>San Jose Sharks</td>\n",
       "      <td>Erik Karlsson</td>\n",
       "      <td>PlayerID</td>\n",
       "      <td>None</td>\n",
       "      <td>None</td>\n",
       "      <td>None</td>\n",
       "      <td>None</td>\n",
       "      <td>None</td>\n",
       "      <td>None</td>\n",
       "    </tr>\n",
       "    <tr>\n",
       "      <th>2</th>\n",
       "      <td>{'x': -65.0, 'y': 10.0}</td>\n",
       "      <td>2018-10-04</td>\n",
       "      <td>Goal</td>\n",
       "      <td>GOAL</td>\n",
       "      <td>Max Comtois (1) Wrist Shot, assists: Adam Henr...</td>\n",
       "      <td>1</td>\n",
       "      <td>REGULAR</td>\n",
       "      <td>19:11</td>\n",
       "      <td>-65.0</td>\n",
       "      <td>10.0</td>\n",
       "      <td>Anaheim Ducks</td>\n",
       "      <td>Max Comtois</td>\n",
       "      <td>Scorer</td>\n",
       "      <td>Adam Henrique</td>\n",
       "      <td>Assist</td>\n",
       "      <td>Jakob Silfverberg</td>\n",
       "      <td>Assist</td>\n",
       "      <td>Martin Jones</td>\n",
       "      <td>Goalie</td>\n",
       "    </tr>\n",
       "  </tbody>\n",
       "</table>\n",
       "</div>"
      ],
      "text/plain": [
       "               coordinates        date     event eventTypeId  \\\n",
       "0     {'x': 0.0, 'y': 0.0}  2018-10-04   Faceoff     FACEOFF   \n",
       "1  {'x': 63.0, 'y': -26.0}  2018-10-04  Takeaway    TAKEAWAY   \n",
       "2  {'x': -65.0, 'y': 10.0}  2018-10-04      Goal        GOAL   \n",
       "\n",
       "                                         description  period periodType  \\\n",
       "0      Joe Thornton faceoff won against Ryan Getzlaf       1    REGULAR   \n",
       "1                          Takeaway by Erik Karlsson       1    REGULAR   \n",
       "2  Max Comtois (1) Wrist Shot, assists: Adam Henr...       1    REGULAR   \n",
       "\n",
       "  periodTimeRemaining  xcoord  ycoord     player1_team   player1_name  \\\n",
       "0               20:00     0.0     0.0  San Jose Sharks   Joe Thornton   \n",
       "1               19:27    63.0   -26.0  San Jose Sharks  Erik Karlsson   \n",
       "2               19:11   -65.0    10.0    Anaheim Ducks    Max Comtois   \n",
       "\n",
       "  player1_type   player2_name player2_type       player3_name player3_type  \\\n",
       "0       Winner   Ryan Getzlaf        Loser               None         None   \n",
       "1     PlayerID           None         None               None         None   \n",
       "2       Scorer  Adam Henrique       Assist  Jakob Silfverberg       Assist   \n",
       "\n",
       "   player4_name player4_type  \n",
       "0          None         None  \n",
       "1          None         None  \n",
       "2  Martin Jones       Goalie  "
      ]
     },
     "execution_count": 49,
     "metadata": {},
     "output_type": "execute_result"
    }
   ],
   "source": [
    "df_all_plays_reg_season = df_play.copy()\n",
    "df_all_plays_reg_season.drop(['about','players','result','team','has_coordinates'], inplace = True, axis = 1)\n",
    "#df_all_plays_reg_season['coordinates'] = df_all_plays_reg_season['coordinates'].apply(lambda x: str(x['x'])+\",\"+str(x['y']))\n",
    "df_all_plays_reg_season.head(3)"
   ]
  },
  {
   "cell_type": "code",
   "execution_count": 53,
   "metadata": {},
   "outputs": [
    {
     "data": {
      "text/plain": [
       "21310"
      ]
     },
     "execution_count": 53,
     "metadata": {},
     "output_type": "execute_result"
    }
   ],
   "source": [
    "len(df_all_plays_reg_season)\n",
    "#there are over 21,000 plays we collected from the sharks season to analyze."
   ]
  },
  {
   "cell_type": "code",
   "execution_count": 56,
   "metadata": {},
   "outputs": [
    {
     "data": {
      "text/plain": [
       "16"
      ]
     },
     "execution_count": 56,
     "metadata": {},
     "output_type": "execute_result"
    }
   ],
   "source": [
    "#number of plays where Joe Thornton scored a goal.\n",
    "len(df_all_plays_reg_season[(df_all_plays_reg_season['player1_name']=='Joe Thornton')&\n",
    "                           (df_all_plays_reg_season['player1_type']=='Scorer')])"
   ]
  },
  {
   "cell_type": "markdown",
   "metadata": {},
   "source": [
    "Just to check, I see how many plays occurred during the season where Joe Thornton was the goal scorer and found 16. According to the stats from the Sharks website, this checks out!"
   ]
  },
  {
   "cell_type": "code",
   "execution_count": 55,
   "metadata": {},
   "outputs": [],
   "source": [
    "df_all_plays_reg_season.to_csv('sharks_2018-2019_reg_season_plays.csv')"
   ]
  }
 ],
 "metadata": {
  "kernelspec": {
   "display_name": "Python 3",
   "language": "python",
   "name": "python3"
  },
  "language_info": {
   "codemirror_mode": {
    "name": "ipython",
    "version": 3
   },
   "file_extension": ".py",
   "mimetype": "text/x-python",
   "name": "python",
   "nbconvert_exporter": "python",
   "pygments_lexer": "ipython3",
   "version": "3.6.5"
  }
 },
 "nbformat": 4,
 "nbformat_minor": 2
}
